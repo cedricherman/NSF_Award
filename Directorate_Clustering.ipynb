{
 "cells": [
  {
   "cell_type": "markdown",
   "metadata": {},
   "source": [
    "# Clustering Abstract"
   ]
  },
  {
   "cell_type": "markdown",
   "metadata": {},
   "source": [
    "In this excercise, we will use K-Means on Abstract records then we will see if each cluster corresponds mostly to a particular Directorate. This will tell us if directorate are truly distinct from each other or if there are overlaps between each other.\n",
    "\n",
    "There are 7 Directorates in the NSF organization and a few offices. Offices were grouped together so that we will set K-Means to look for 8 clusters. The list of possible categories is then:\n",
    "1. Directorate for Biological Sciences\n",
    "2. Directorate for Computer & Information Science & Engineering\n",
    "3. Directorate for Education & Human Resources\n",
    "4. Directorate for Engineering\n",
    "5. Directorate for Geosciences\n",
    "6. Directorate for Mathematical & Physical Sciences\n",
    "7. Directorate for Social, Behavioral & Economic Sciences\n",
    "\n"
   ]
  },
  {
   "cell_type": "markdown",
   "metadata": {},
   "source": [
    "<img src=\"img/Directorate_categories.png\" width=\"800\">"
   ]
  },
  {
   "cell_type": "markdown",
   "metadata": {},
   "source": [
    "## Directorate Classification based on Abstract\n",
    "After runnning MiniBatch KMeans multiple times, It seems that Mathematical & Physical Sciences is the most common directorate for 3 clusters. It is somewhat understandable since Mathematic is at the based of every science.\n",
    "\n",
    "Typical example:<br>\n",
    "Cluster 1, directorate geosciences<br>\n",
    "Cluster 2, directorate social behavioral economic sciences<br>\n",
    "Cluster 3, directorate mathematical physical sciences<br>\n",
    "Cluster 4, directorate biological sciences<br>\n",
    "Cluster 5, directorate education human resources<br>\n",
    "Cluster 6, directorate mathematical physical sciences<br>\n",
    "Cluster 7, directorate mathematical physical sciences<br>\n",
    "\n",
    "Top terms per cluster:<br>\n",
    "Cluster 0: climate ocean ice water change sea model carbon sediment data<br>\n",
    "Cluster 1: data research project model study social information new ha analysis<br>\n",
    "Cluster 2: material research chemistry property high surface new metal electron energy<br>\n",
    "Cluster 3: cell protein plant specie genetic dna molecular research study project<br>\n",
    "Cluster 4: student science program research project teacher engineering course school college<br>\n",
    "Cluster 5: conference workshop research meeting held support researcher science international student<br>\n",
    "Cluster 6: problem theory algorithm network design research application project model methods<br>\n",
    "\n",
    "If the NSF wants to reorganise their directorate it could look like this way:\n"
   ]
  },
  {
   "cell_type": "markdown",
   "metadata": {},
   "source": [
    "<img src=\"img/Directorate_categories_reorg.png\" width=\"800\">"
   ]
  },
  {
   "cell_type": "markdown",
   "metadata": {},
   "source": [
    "## Load data"
   ]
  },
  {
   "cell_type": "code",
   "execution_count": 1,
   "metadata": {},
   "outputs": [
    {
     "name": "stderr",
     "output_type": "stream",
     "text": [
      "C:\\ProgramData\\Anaconda3\\lib\\site-packages\\IPython\\core\\interactiveshell.py:2802: DtypeWarning: Columns (13,15) have mixed types. Specify dtype option on import or set low_memory=False.\n",
      "  if self.run_code(code, result):\n"
     ]
    }
   ],
   "source": [
    "# -*- coding: utf-8 -*-\n",
    "\"\"\"\n",
    "Created on Tue Nov 14 02:02:58 2017\n",
    "\n",
    "@author: herma\n",
    "\"\"\"\n",
    "\n",
    "# import custom vectorizer and associated function\n",
    "from utils import utilsvectorizer\n",
    "\n",
    "# don't use use stopwords from nltk\n",
    "#from nltk.corpus import stopwords\n",
    "#sw = stopwords.words('english')\n",
    "## sklearn stopword list is more extensive, ENGLISH_STOP_WORDS is the same\n",
    "## as stop_words='english' for CountVectorizer\n",
    "from sklearn.feature_extraction import stop_words\n",
    "# add list of first names from nltk, ATTENTION names has duplicates!!! use union()\n",
    "# and each name starts with a CAPITAL LETTER\n",
    "from nltk.corpus import names\n",
    "firstname_corp = [na.lower() for na in names.words()]\n",
    "sw = stop_words.ENGLISH_STOP_WORDS.union(firstname_corp)\n",
    "\n",
    "#######-----------------------------------------------------------------#######\n",
    "from utils import Abstract_transformation as abt\n",
    "# get data set\n",
    "df_corpus = abt.get_Abstract('Abstract_full_Startdate.csv')\n",
    "#######-----------------------------------------------------------------#######\n",
    "from utils import Directorate_transformation as dit\n",
    "# get data set\n",
    "df_direct = dit.get_Directorate('DB_1960_to_2017.csv')\n",
    "#######-----------------------------------------------------------------#######\n",
    "\n",
    "\n",
    "# MERGE\n",
    "#######-----------------------------------------------------------------#######\n",
    "import pandas as pd\n",
    "# merge corpus and target on AwardID. AwardID is conserved\n",
    "df = pd.merge(df_corpus, df_direct, how='inner', on=['AwardID'])\n",
    "#######-----------------------------------------------------------------#######\n",
    "# temporary downsizez of data\n",
    "#df = df.iloc[:10000]\n",
    "\n",
    "# LABEL\n",
    "#######-----------------------------------------------------------------#######\n",
    "target = df.Directorate_Name\n",
    "# label those categories\n",
    "from sklearn.preprocessing import LabelEncoder\n",
    "Directorate_encoder = LabelEncoder()\n",
    "Directorate_coded = Directorate_encoder.fit_transform(target)\n",
    "target_names_list = Directorate_encoder.classes_\n",
    "#######-----------------------------------------------------------------#######\n"
   ]
  },
  {
   "cell_type": "markdown",
   "metadata": {},
   "source": [
    "## Vectorize text"
   ]
  },
  {
   "cell_type": "code",
   "execution_count": 2,
   "metadata": {},
   "outputs": [
    {
     "name": "stdout",
     "output_type": "stream",
     "text": [
      "(313975, 341518)\n"
     ]
    }
   ],
   "source": [
    "## #############################################################################\n",
    "# Do the actual clustering\n",
    "from sklearn.feature_extraction.text import TfidfTransformer\n",
    "from sklearn.cluster import KMeans, MiniBatchKMeans\n",
    "from sklearn import metrics\n",
    "from sklearn.metrics import accuracy_score\n",
    "from time import time\n",
    "from scipy.stats import mode\n",
    "import numpy as np\n",
    "import matplotlib.pyplot as plt\n",
    "import seaborn as sns\n",
    "\n",
    "# need a vectorizer\n",
    "vectorizer = utilsvectorizer.CustomVectorizer( min_df = 1,\n",
    "                              max_df = 1.0,\\\n",
    "                              analyzer = 'word',\\\n",
    "                              stop_words = sw,\\\n",
    "                              strip_accents = 'unicode',\\\n",
    "                              token_pattern = r'(?u)\\b[a-zA-Z][a-zA-Z]+\\b',\\\n",
    "                        preprocessor = utilsvectorizer.remove_Tag_Http )\n",
    "# proceed with Count vectorizer first\n",
    "Abstract_features_array = vectorizer.fit_transform(df.Raw_Abstract)\n",
    "# TFID vectorizer\n",
    "# instantiate tfidf, normalize counts and lower weights of high frequencies\n",
    "tfidf_transformer = TfidfTransformer()\n",
    "X = tfidf_transformer.fit_transform(Abstract_features_array)\n",
    "print(X.shape)\n",
    "\n",
    "# number of label representing directorate\n",
    "labels = df_direct.Directorate_Name.unique()\n",
    "# number of expected cluster\n",
    "true_k = df_direct.Directorate_Name.unique().shape[0]\n"
   ]
  },
  {
   "cell_type": "markdown",
   "metadata": {},
   "source": [
    "## Train model"
   ]
  },
  {
   "cell_type": "code",
   "execution_count": 9,
   "metadata": {},
   "outputs": [
    {
     "name": "stdout",
     "output_type": "stream",
     "text": [
      "Clustering sparse data with MiniBatchKMeans(batch_size=10000, compute_labels=True, init='k-means++',\n",
      "        init_size=None, max_iter=100, max_no_improvement=10, n_clusters=7,\n",
      "        n_init=100, random_state=None, reassignment_ratio=0.01, tol=0.0,\n",
      "        verbose=0)\n",
      "done in 125.541s\n",
      "\n"
     ]
    }
   ],
   "source": [
    "# use Kmeans unsupervised learning\n",
    "# verbose produces looging info\n",
    "#km = KMeans(n_clusters=true_k, init='k-means++', max_iter=100, n_init=1,\n",
    "#                verbose=0, n_jobs = -1)\n",
    "# init_size=1000 or 3*batch_size by default \n",
    "km = MiniBatchKMeans(n_clusters=true_k, init='k-means++', n_init=100,\n",
    "                             batch_size=10000, verbose=0)\n",
    "\n",
    "print(\"Clustering sparse data with %s\" % km)\n",
    "t0 = time()\n",
    "km.fit(X)\n",
    "print(\"done in %0.3fs\" % (time() - t0))\n",
    "print()\n",
    "\n",
    "#from sklearn.externals import joblib\n",
    "#joblib.dump(km, 'Kmeans_default_Model.pkl')\n",
    "##km = joblib.load('Kmeans_default_Model.pkl') "
   ]
  },
  {
   "cell_type": "markdown",
   "metadata": {},
   "source": [
    "## Results and Metrics"
   ]
  },
  {
   "cell_type": "code",
   "execution_count": 10,
   "metadata": {},
   "outputs": [
    {
     "name": "stdout",
     "output_type": "stream",
     "text": [
      "How well does it match our Directorate?\n",
      "Cluster 1, directorate geosciences\n",
      "Cluster 2, directorate mathematical physical sciences\n",
      "Cluster 3, directorate mathematical physical sciences\n",
      "Cluster 4, directorate computer information science engineering\n",
      "Cluster 5, directorate education human resources\n",
      "Cluster 6, directorate mathematical physical sciences\n",
      "Cluster 7, directorate biological sciences\n",
      "Match score = 0.1603\n",
      "[[15752  4564  2023     0 16737  3756     0]\n",
      " [  380 27064  2089     0   138  6882     0]\n",
      " [  518  3979 24236     0   346  3267     0]\n",
      " [ 3367 20915  3827     0  1166 29309     0]\n",
      " [  240  5471  1528     0 27470 13292     0]\n",
      " [ 1869  3511  3552     0   487 57982     0]\n",
      " [   67 20940   937     0  4091  2223     0]]\n",
      "Top terms per cluster:\n",
      "Cluster 0: specie climate change ocean water study ice plant data project\n",
      "Cluster 1: theory problem equation model method geometry algorithm space mathematical research\n",
      "Cluster 2: material research chemistry property surface study high structure new metal\n",
      "Cluster 3: data research project network design model new information technology software\n",
      "Cluster 4: student science program teacher project research engineering course school college\n",
      "Cluster 5: conference workshop research support meeting science researcher held international student\n",
      "Cluster 6: cell protein plant dna molecular function research biology membrane mechanism\n"
     ]
    },
    {
     "data": {
      "image/png": "[encoded data removed]",
      "text/plain": [
       "<matplotlib.figure.Figure at 0x20e865b67f0>"
      ]
     },
     "metadata": {},
     "output_type": "display_data"
    }
   ],
   "source": [
    "%matplotlib inline\n",
    "\n",
    "# print(\"Homogeneity: %0.3f\" % metrics.homogeneity_score(Directorate_coded, km.labels_))\n",
    "# print(\"Completeness: %0.3f\" % metrics.completeness_score(Directorate_coded, km.labels_))\n",
    "# print(\"V-measure: %0.3f\" % metrics.v_measure_score(Directorate_coded, km.labels_))\n",
    "# print(\"Adjusted Rand-Index: %.3f\"\n",
    "#       % metrics.adjusted_rand_score(Directorate_coded, km.labels_))\n",
    "# print(\"Silhouette Coefficient: %0.3f\"\n",
    "#       % metrics.silhouette_score(X, km.labels_, sample_size=1000))\n",
    "#print()\n",
    "\n",
    "print(\"How well does it match our Directorate?\")\n",
    "# does it match our Directorate?\n",
    "pred_clusters = km.predict(X)\n",
    "Pred_DirectName_coded = np.zeros_like(pred_clusters)\n",
    "Clusters_names_coded = np.zeros((true_k,1), dtype =int)\n",
    "for i in range(true_k):\n",
    "    mask = (pred_clusters == i)\n",
    "    Pred_DirectName_coded[mask] = mode(Directorate_coded[mask])[0]\n",
    "    Clusters_names_coded[i] = mode(Directorate_coded[mask])[0]\n",
    "# recover names of directorate\n",
    "Clusters_names = Directorate_encoder.inverse_transform(Clusters_names_coded)\n",
    "# print cluster number and most frequent directorate name\n",
    "for i in range(true_k):\n",
    "    print('Cluster {}, {}'.format(\\\n",
    "          i+1,*Clusters_names[i]))\n",
    "\n",
    "# accuracy score\n",
    "score = accuracy_score(Directorate_coded, pred_clusters)\n",
    "print('Match score = {:.4f}'.format(score))\n",
    "# confusion matrix\n",
    "mat = metrics.confusion_matrix(Directorate_coded, Pred_DirectName_coded)\n",
    "print(mat)\n",
    "target_names_list_mod = [ '\\n'.join(tn.split()) \\\n",
    "                         for tn in target_names_list]\n",
    "sns.heatmap(mat.T, square=True, annot=True, fmt='d', cbar=False,\n",
    "            xticklabels=target_names_list_mod,\n",
    "            yticklabels=target_names_list_mod)\n",
    "plt.xlabel('true label')\n",
    "plt.ylabel('predicted label');\n",
    "\n",
    "\n",
    "print(\"Top terms per cluster:\")\n",
    "# clusters center should be an array of true_k * vocab\n",
    "order_centroids = km.cluster_centers_.argsort()[:, ::-1]\n",
    "terms = vectorizer.get_feature_names()\n",
    "for i in range(true_k):\n",
    "        print(\"Cluster %d:\" % i, end='')\n",
    "          # print the top 10 words for each cluster\n",
    "        for ind in order_centroids[i, :10]:\n",
    "            print(' %s' % terms[ind], end='')\n",
    "        print()"
   ]
  },
  {
   "cell_type": "code",
   "execution_count": null,
   "metadata": {
    "collapsed": true
   },
   "outputs": [],
   "source": []
  }
 ],
 "metadata": {
  "kernelspec": {
   "display_name": "Python 3",
   "language": "python",
   "name": "python3"
  },
  "language_info": {
   "codemirror_mode": {
    "name": "ipython",
    "version": 3
   },
   "file_extension": ".py",
   "mimetype": "text/x-python",
   "name": "python",
   "nbconvert_exporter": "python",
   "pygments_lexer": "ipython3",
   "version": "3.5.4"
  }
 },
 "nbformat": 4,
 "nbformat_minor": 2
}
