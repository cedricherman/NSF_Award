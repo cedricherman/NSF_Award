{
 "cells": [
  {
   "cell_type": "markdown",
   "metadata": {},
   "source": [
    "# Download and extract data files from NSF website\n",
    "\n",
    "This is a script to download zipfiles from each year on the NSF website.\n",
    "After dowload of a file is completed, extract it so that it will create\n",
    "a folder named after its year. Each year folder has a one xml file per award.\n",
    "\n",
    "For this project, I downloaded data from 1960 to 2017 which represents approximately 1.5 GB (unzipped in aggregate)\n",
    "\n",
    "## Python modules:\n",
    "    * requests \n",
    "    * zipfile"
   ]
  },
  {
   "cell_type": "markdown",
   "metadata": {},
   "source": [
    "Here is a snapshot of their download page:\n",
    "\n",
    "<img src=\"./../img/NSFAwardDownloadPage.png\" width=\"1350\">"
   ]
  },
  {
   "cell_type": "code",
   "execution_count": null,
   "metadata": {
    "collapsed": true
   },
   "outputs": [],
   "source": [
    "\"\"\"\n",
    "Created on Tue Nov  7 21:49:38 2017\n",
    "@author: herma\n",
    "\"\"\"\n",
    "\n",
    "# imports necessary for zip file download\n",
    "import requests\n",
    "from zipfile import ZipFile\n",
    "import re\n",
    "\n",
    "\n",
    "start_year = 1960\n",
    "stop_year = 2017\n",
    "# total size of data (over all zipped files)\n",
    "Tot_size=0\n",
    "# year range for url\n",
    "years = range(start_year,stop_year+1)\n",
    "for ny,y in enumerate(years):\n",
    "    url = 'https://www.nsf.gov/awardsearch/download?DownloadFileName={}&All=true'.format(y)\n",
    "    request = requests.get(url)\n",
    "    # recover name of zip files, could use str(y) as a name too\n",
    "    content_name = request.headers.get('Content-Disposition')\n",
    "    zip_name = re.findall('filename=\"(\\w+.\\w+)\"', content_name)[0]\n",
    "    # download zip files one by one\n",
    "    with open(zip_name,'ab') as f:\n",
    "        f.write(request.content)\n",
    "    # extract zip file\n",
    "    thiszip = ZipFile(zip_name, 'r')\n",
    "    # HAVE to filter list of file in zip file\n",
    "    # In 2002 data, there is one named '0225630.xml\\r' and '0225630.xml'\n",
    "    # so use strip() to remove line separator (return carriage)\n",
    "    # Even if there are duplicate of xml file, it will overwrite and keep one only\n",
    "    thiszip.extractall(path=zip_name.split('.')[0], \\\n",
    "                       members=[ pin.strip() for pin in thiszip.namelist() ])\n",
    "    thiszip.close()"
   ]
  }
 ],
 "metadata": {
  "kernelspec": {
   "display_name": "Python 3",
   "language": "python",
   "name": "python3"
  },
  "language_info": {
   "codemirror_mode": {
    "name": "ipython",
    "version": 3
   },
   "file_extension": ".py",
   "mimetype": "text/x-python",
   "name": "python",
   "nbconvert_exporter": "python",
   "pygments_lexer": "ipython3",
   "version": "3.5.4"
  }
 },
 "nbformat": 4,
 "nbformat_minor": 2
}
