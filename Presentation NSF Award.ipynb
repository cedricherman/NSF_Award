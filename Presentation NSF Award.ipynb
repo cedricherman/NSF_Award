{
 "cells": [
  {
   "cell_type": "markdown",
   "metadata": {},
   "source": [
    "<img src=\"img/nsf1.jpg\" width=\"200\">"
   ]
  },
  {
   "cell_type": "markdown",
   "metadata": {},
   "source": [
    "# Study of National Science Foundation Historical Awards"
   ]
  },
  {
   "cell_type": "markdown",
   "metadata": {},
   "source": [
    "The National Science Foundation is a federal agency that supports all fields of science & engineering except medical sciences.\n",
    "<br>Each year, they distribute about 10,000 awards.\n",
    "\n",
    "The goal of this project is to gain insights from historical data available for download on the NSF website."
   ]
  },
  {
   "cell_type": "markdown",
   "metadata": {},
   "source": [
    "## Data Description\n",
    "Data is stored by fiscal year via zip file on NSF website. Each zip file contains multiple xml files, one xml file per award.\n",
    "Relevant information on award such as Abstract, Award ID, Award type, NSF affiliated organization are contained in xml format.\n",
    "\n",
    "[Data_Download](https://github.com/cedricherman/NSF_Awards/blob/master/Download_NSF_data.ipynb)<br><br>[Structure_Data](https://github.com/cedricherman/NSF_Awards/blob/master/Process2structured.ipynb)<br><br>\n",
    "[Abstract_Transformation](https://github.com/cedricherman/NSF_Awards/blob/master/Abstract%20Transformation.ipynb) <br><br> [Award_Type_Transformation](https://github.com/cedricherman/NSF_Awards/blob/master/Award%20Type%20Transformation.ipynb) <br><br> [Directorate Transformation](https://github.com/cedricherman/NSF_Awards/blob/master/Directorate%20Transformation.ipynb)"
   ]
  },
  {
   "cell_type": "markdown",
   "metadata": {},
   "source": [
    "## Insights\n",
    "### Is it possible to classify award type solely based on their abstract?\n",
    "The idea is to come up with a classification model that can tell you the award type based on the abstract. To do so, we have hundred of thousands of abstracts across many fields at our disposal. A Multinomial Naive Bayes algorithm following N-grams word vectorization was selected. After optimization, accuracy rate is ~77%.\n",
    "\n",
    "[Award_Type_Classification](https://github.com/cedricherman/NSF_Awards/blob/master/Award_type_classification.ipynb)\n",
    "\n",
    "### What fields overlap the most at the Directorate level?\n",
    "NSF has 7 directorates representing all major fields in science and engineering. How much overlap is there? Do they act as silo?\n",
    "Could we reduce the number of directorates?\n",
    "To find out, we will run an unsupervised machine learning algorithm (K-Means) on all abstracts to cluster awards. It turns out a majority of clusters relies on Math & Physical Sciences.\n",
    "\n",
    "[Directorate_Clustering](https://github.com/cedricherman/NSF_Awards/blob/master/Directorate_Clustering.ipynb)"
   ]
  },
  {
   "cell_type": "markdown",
   "metadata": {},
   "source": [
    "## Pipeline\n",
    "<img src=\"img/Pipeline.png\" width=\"800\">"
   ]
  },
  {
   "cell_type": "markdown",
   "metadata": {},
   "source": [
    "\n"
   ]
  },
  {
   "cell_type": "code",
   "execution_count": 2,
   "metadata": {},
   "outputs": [],
   "source": [
    "#|blank"
   ]
  },
  {
   "cell_type": "code",
   "execution_count": null,
   "metadata": {
    "collapsed": true
   },
   "outputs": [],
   "source": []
  }
 ],
 "metadata": {
  "kernelspec": {
   "display_name": "Python 3",
   "language": "python",
   "name": "python3"
  },
  "language_info": {
   "codemirror_mode": {
    "name": "ipython",
    "version": 3
   },
   "file_extension": ".py",
   "mimetype": "text/x-python",
   "name": "python",
   "nbconvert_exporter": "python",
   "pygments_lexer": "ipython3",
   "version": "3.5.4"
  }
 },
 "nbformat": 4,
 "nbformat_minor": 2
}
