{
 "cells": [
  {
   "cell_type": "markdown",
   "metadata": {},
   "source": [
    "# Data Wrangling\n",
    "\n",
    "For this project there are 3 parameters of interest:\n",
    "    * Abstract\n",
    "    * Award Type (aka Award Instrumentation)\n",
    "    * Directorate Name\n",
    "\n",
    "Abstracts were saved in its own CSV file while Award type and Directorate Name were in the same CSV file.\n",
    "\n",
    "Missing data were discarded, award types were consolidated into 4 groups and Directorate names had abbreviation. All text had to be lower case and so on.\n",
    "Dedicated python module were created for each of those 3 parameters."
   ]
  },
  {
   "cell_type": "markdown",
   "metadata": {},
   "source": [
    "### Below is the python module for Abstract transformation prior to processing:"
   ]
  },
  {
   "cell_type": "code",
   "execution_count": null,
   "metadata": {
    "collapsed": true
   },
   "outputs": [],
   "source": [
    "# -*- coding: utf-8 -*-\n",
    "\"\"\"\n",
    "Created on Mon Nov 13 21:33:23 2017\n",
    "\n",
    "@author: herma\n",
    "\"\"\"\n",
    "\n",
    "# import to read and filter data\n",
    "import pandas as pd\n",
    "\n",
    "def get_Abstract(filename, nrecord=None):\n",
    "    \"\"\"\n",
    "    This function loads a csv file in memory,\n",
    "    removes records/lines/samples which are missing Abstract\n",
    "    returns two columns named 'AwardID' and 'Raw_Abstract' as pandas dataframe\n",
    "    \n",
    "    Required argument: \n",
    "        file name with relative or full path\n",
    "        \n",
    "    Optional argument:\n",
    "        number of non-empty Abstract records desired\n",
    "        \n",
    "    \"\"\"\n",
    "    # get abstract data\n",
    "    # number of abstract present = 327,825 over 438,352\n",
    "    df = pd.read_csv(filename,\\\n",
    "                     header=0,\\\n",
    "                      encoding = 'utf-8',\\\n",
    "                      nrows = None)\n",
    "    # replace nan values by empty string\n",
    "    # read_csv() replaces empty string by nan automatically, force it back to ''\n",
    "    #df.fillna(value='', inplace=True)\n",
    "    # discard records that have no abstract\n",
    "    df.dropna(subset=['Raw_Abstract'], inplace=True )\n",
    "    # only get a portion of data\n",
    "    if nrecord is not None:\n",
    "        return df.iloc[:nrecord, df.columns.get_indexer(['AwardID', 'Raw_Abstract'])] \n",
    "    else:\n",
    "        return df.iloc[:, df.columns.get_indexer(['AwardID', 'Raw_Abstract'])] \n",
    "\n",
    "\n",
    "\n",
    "#### The Main program, can be used as a script or as a module\n",
    "if __name__ == \"__main__\":\n",
    "    # get entire corpus\n",
    "    corpus = get_Abstract('Abstract_full_Startdate.csv', nrecord=int(1e5))\n",
    "    print( corpus.count() )\n"
   ]
  }
 ],
 "metadata": {
  "kernelspec": {
   "display_name": "Python 3",
   "language": "python",
   "name": "python3"
  },
  "language_info": {
   "codemirror_mode": {
    "name": "ipython",
    "version": 3
   },
   "file_extension": ".py",
   "mimetype": "text/x-python",
   "name": "python",
   "nbconvert_exporter": "python",
   "pygments_lexer": "ipython3",
   "version": "3.5.4"
  }
 },
 "nbformat": 4,
 "nbformat_minor": 2
}
